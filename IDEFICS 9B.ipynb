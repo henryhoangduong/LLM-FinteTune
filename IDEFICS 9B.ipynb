{
 "cells": [
  {
   "cell_type": "code",
   "execution_count": null,
   "metadata": {
    "vscode": {
     "languageId": "plaintext"
    }
   },
   "outputs": [],
   "source": [
    "!pip install -q datasets\n",
    "!pip install -q git+https://github.com/huggingface/transformers.git@add-model-idefics\n",
    "!pip install -q bitsandbytes sentencepiece accelerate loralib\n",
    "!pip install -q -U git+https://github.com/huggingface/peft.git"
   ]
  },
  {
   "cell_type": "code",
   "execution_count": null,
   "metadata": {
    "vscode": {
     "languageId": "plaintext"
    }
   },
   "outputs": [],
   "source": [
    "import torch\n",
    "from datasets import load_dataset\n",
    "from peft import LoraConfig, get_peft_model\n",
    "from PIL import Image\n",
    "from transformers import IdeficsForVisionText2Text, AutoProcessor, Trainer, TrainingArguments, BitsAndBytesConfig"
   ]
  },
  {
   "cell_type": "code",
   "execution_count": null,
   "metadata": {
    "vscode": {
     "languageId": "plaintext"
    }
   },
   "outputs": [],
   "source": [
    "device = \"cude\" if torch.cuda.is_available() else \"cput\""
   ]
  },
  {
   "cell_type": "code",
   "execution_count": null,
   "metadata": {
    "vscode": {
     "languageId": "plaintext"
    }
   },
   "outputs": [],
   "source": [
    "checkpoint = \"HuggingFaceM4/idefics-9b\""
   ]
  },
  {
   "cell_type": "code",
   "execution_count": null,
   "metadata": {
    "vscode": {
     "languageId": "plaintext"
    }
   },
   "outputs": [],
   "source": [
    "bnb_config = BitsAndBytesConfig(\n",
    "    load_in_4bit=True,\n",
    "    bnb_4bit_use_double_quant=True,\n",
    "    bnb_4bit_quant_type=\"nf4\",\n",
    "    bnb_4bit_compute_dtype=torch.float16,\n",
    "    llm_int8_skip_modules=[\"lm_head\", \"embed_tokens\"]\n",
    ")"
   ]
  },
  {
   "cell_type": "code",
   "execution_count": null,
   "metadata": {
    "vscode": {
     "languageId": "plaintext"
    }
   },
   "outputs": [],
   "source": [
    "model = IdeficsForVisionText2Text.from_pretrained(checkpoint, quantization_config=bnb_config, device_map=\"auto\")"
   ]
  },
  {
   "cell_type": "code",
   "execution_count": null,
   "metadata": {
    "vscode": {
     "languageId": "plaintext"
    }
   },
   "outputs": [],
   "source": [
    "# inference\n",
    "def do_inference(model, processor, prompts, max_new_token=50):\n",
    "  tokenizer = processor.tokenizer\n",
    "  bad_words = [\"<image>\",\"<fake_token_around_image>\"]\n",
    "  if len(bad_words) > 0:\n",
    "    bad_word_ids = tokenizer(bad_words, add_special_tokens=False).input_ids\n",
    "  eos_token = \"</s>\"\n",
    "  eos_token_id = tokenizer.convert_tokens_to_ids(eos_token)\n",
    "  inputs = processor(prompts, return_tensors=\"pt\").to(device)\n",
    "\n",
    "  generated_ids = model.generate(\n",
    "      **inputs,\n",
    "      max_new_tokens=max_new_token,\n",
    "      bad_words_ids=bad_word_ids,\n",
    "      eos_token_id=[eos_token_id],\n",
    "      early_stopping=True,\n",
    "  )\n",
    "  generated_text = processor.batch_decode(generated_ids, skip_special_tokens=True)[0]\n",
    "  print(  generated_text = processor.batch_decode(generated_ids, skip_special_tokens=True)[0])\n",
    "  return generated_text"
   ]
  },
  {
   "cell_type": "code",
   "execution_count": null,
   "metadata": {
    "vscode": {
     "languageId": "plaintext"
    }
   },
   "outputs": [],
   "source": [
    "#preprocessing\n",
    "def conver_to_rgb(image):"
   ]
  }
 ],
 "metadata": {
  "language_info": {
   "name": "python"
  }
 },
 "nbformat": 4,
 "nbformat_minor": 2
}
